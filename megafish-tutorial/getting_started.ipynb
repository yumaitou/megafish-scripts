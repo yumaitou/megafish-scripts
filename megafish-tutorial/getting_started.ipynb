{
 "cells": [
  {
   "cell_type": "markdown",
   "metadata": {},
   "source": [
    "# MEGA-FISH getting started\n",
    "\n",
    "This notebook is a excutable version of the [MEGA-FISH getting started](https://megafish.readthedocs.io/en/stable/getting_started.html) guide.\n",
    "\n",
    "Please install the environment andd MEGA-FISH package by following the instructions in the [MEGA-FISH documentation](https://megafish.readthedocs.io/en/stable/getting_started.html#installation) before running this notebook.\n",
    "\n",
    "Then, select the installed kernel in the top right corner of the notebook."
   ]
  },
  {
   "cell_type": "markdown",
   "metadata": {},
   "source": [
    "# 1. Sample dataset\n",
    "\n",
    "A SeqFISH image dataset used in this tutorial is available for download from Zenodo. This dataset captures mRNA of 6 genes in human IMR90 cells across 2 channels and is a downsampled version of images from Tomimatsu, K. et al., Nat Commun 15, 3657 (2024).\n",
    "\n",
    "Dataset Overview:\n",
    "\n",
    "The dataset is organized by cycle, subfolders inside the images folder. Each cycle folder holds 9 TIFF images named sequentially from 1.tif to 9.tif, arranged in a 3x3 tile configuration. Each tile image is a 4-dimensional array with dimensions (color, z, y, x) = (3, 3, 1024, 1024). The channels are structured as follows:\n",
    "\n",
    "    Channel 1: Hoechst (nuclei stain)\n",
    "\n",
    "    Channel 2: RNA channel 1\n",
    "\n",
    "    Channel 3: RNA channel 2\n",
    "\n",
    "In addition, the dataset includes a stitched folder, which contains a pre-stitched 2D image, hcst_mip_stitched.tif. This image, with dimensions (3051, 3051), is used for tile-to-tile registration.\n",
    "\n",
    "Folder Structure:\n",
    "\n",
    "```bash\n",
    "getting_started/\n",
    "├── images/\n",
    "│   ├── cycle1/\n",
    "│   │   ├── 1.tif\n",
    "│   │   ├── ...\n",
    "│   │   └── 9.tif\n",
    "│   ├── cycle2/\n",
    "│   │   ├── 1.tif\n",
    "│   │   ├── ...\n",
    "│   │   └── 9.tif\n",
    "│   └── cycle3/\n",
    "│       ├── 1.tif\n",
    "│       ├── ...\n",
    "│       └── 9.tif\n",
    "└── stitched/\n",
    "    └── hcst_mip_stitched.tif\n",
    "```\n",
    "\n",
    "To use this dataset, download it from Zenodo and save it to a directory of your choice, for example: /home/UserName/megafish_tutorial/.\n",
    "\n",
    "The following snippet shows how to create a megafish_tutorial folder in your home directory and save the downloaded dataset inside it."
   ]
  },
  {
   "cell_type": "code",
   "execution_count": null,
   "metadata": {},
   "outputs": [],
   "source": [
    "import os\n",
    "import urllib.request\n",
    "import zipfile\n",
    "import io\n",
    "\n",
    "# Create a directory for the tutorial dataset\n",
    "home_dir = os.path.join(os.path.expanduser(\"~\"), \"megafish_tutorial\")\n",
    "os.makedirs(home_dir, exist_ok=True)\n",
    "\n",
    "root_dir = os.path.join(home_dir, \"getting_started\", \"analysis\")\n",
    "img_dir = os.path.join(home_dir, \"getting_started\", \"images\")\n",
    "stitched_dir = os.path.join(home_dir, \"getting_started\", \"stitched\")"
   ]
  },
  {
   "cell_type": "code",
   "execution_count": null,
   "metadata": {},
   "outputs": [],
   "source": [
    "# Download the dataset from Zenodo\n",
    "url = \"https://zenodo.org/records/14158810/files/getting_started.zip\"\n",
    "zip_path = os.path.join(root_dir, \"megafish_sample.zip\")\n",
    "opener = urllib.request.build_opener()\n",
    "with opener.open(url) as download_file:\n",
    "   with zipfile.ZipFile(io.BytesIO(download_file.read())) as zip_file:\n",
    "      zip_file.extractall(home_dir)"
   ]
  },
  {
   "cell_type": "markdown",
   "metadata": {},
   "source": [
    "# 2. Processing\n",
    "\n",
    "First, import MEGA-FISH and the necessary libraries into your Python script or Jupyter notebook."
   ]
  },
  {
   "cell_type": "code",
   "execution_count": null,
   "metadata": {},
   "outputs": [],
   "source": [
    "import os\n",
    "import megafish as mf"
   ]
  },
  {
   "cell_type": "markdown",
   "metadata": {},
   "source": [
    "Next, specify the analysis directory, sample name, Zarr file path, and key parameters such as image size and pixel dimensions. If analysis directory does not exist, create it first."
   ]
  },
  {
   "cell_type": "code",
   "execution_count": null,
   "metadata": {},
   "outputs": [],
   "source": [
    "sample_name = \"IMR90_SeqFISH\"\n",
    "zarr_path = os.path.join(root_dir, sample_name + \".zarr\")\n",
    "\n",
    "pitch = [0.1370, 0.0994, 0.0994]\n",
    "n_cycle, n_tile_y, n_tile_x, n_z, n_y, n_x = 3, 3, 3, 3, 1024, 1024"
   ]
  },
  {
   "cell_type": "markdown",
   "metadata": {},
   "source": [
    "Here, pitch defines the pixel size in micrometers for each dimension (z, y, x). n_cycle is the number of cycles, n_tile_y and n_tile_x are the number of tiles in the y and x directions, and n_z, n_y, and n_x are the pixel dimensions of the image.\n",
    "\n",
    "In this tutorial, since the images are relatively small, using a GPU might increase computational overhead and slow down the processing. For optimal performance, CPU processing is recommended in this tutorial dataset. You can specify the resource settings as follows:"
   ]
  },
  {
   "cell_type": "code",
   "execution_count": null,
   "metadata": {},
   "outputs": [],
   "source": [
    "mf.config.set_resource(gpu=False, scheduler=\"synchronous\")"
   ]
  },
  {
   "cell_type": "markdown",
   "metadata": {},
   "source": [
    "## 2.1 Loading the dataset\n",
    "\n",
    "**1) Specify the dataset directory and create a directory list**\n",
    "\n",
    "The directory list is a CSV file that records the cycle directories in the dataset, which is used to generate an image information list. The following code creates a directory list by searching for cycle directories in the image directory."
   ]
  },
  {
   "cell_type": "code",
   "execution_count": null,
   "metadata": {},
   "outputs": [],
   "source": [
    "dirlist_path = os.path.join(root_dir, sample_name + \"_directorylist.csv\")\n",
    "mf.load.make_dirlist(dirlist_path, img_dir)"
   ]
  },
  {
   "cell_type": "markdown",
   "metadata": {},
   "source": [
    "This will generate a IMR90_SeqFISH_directorylist.csv file in the analysis directory with the following structure:"
   ]
  },
  {
   "cell_type": "code",
   "execution_count": null,
   "metadata": {},
   "outputs": [],
   "source": [
    "import pandas as pd\n",
    "pd.read_csv(dirlist_path)"
   ]
  },
  {
   "cell_type": "markdown",
   "metadata": {},
   "source": [
    "**2) Generate an image information list**\n",
    "\n",
    "The image information list is a CSV file that records the image paths and metadata (e.g., cycle, tile, and channel) for each group. The following code generates an image information list based on the directory list and specified parameters."
   ]
  },
  {
   "cell_type": "code",
   "execution_count": null,
   "metadata": {},
   "outputs": [],
   "source": [
    "groups = [\"hcst\", \"rna1\", \"rna2\"]\n",
    "channels = [1, 2, 3]\n",
    "scan_type = \"row_right_down\"\n",
    "mf.load.make_imagepath_cYX_from_dirlist(\n",
    "    zarr_path, groups, channels, n_cycle, n_tile_y, n_tile_x,\n",
    "    scan_type, dirlist_path, ext=\".tif\")"
   ]
  },
  {
   "cell_type": "markdown",
   "metadata": {},
   "source": [
    "This will generate a IMR90_SeqFISH_imagepath.csv file in the analysis directory with the following structure:"
   ]
  },
  {
   "cell_type": "code",
   "execution_count": null,
   "metadata": {},
   "outputs": [],
   "source": [
    "import pandas as pd\n",
    "imagepath_path = os.path.join(root_dir, sample_name + \"_imagepath.csv\")\n",
    "pd.read_csv(imagepath_path)"
   ]
  },
  {
   "cell_type": "markdown",
   "metadata": {},
   "source": [
    "Note: If the image order in your dataset differs from the expected order, you can manually create the image path CSV file without using functions.\n",
    "\n",
    "**3)Load the images into a Zarr file**\n",
    "\n",
    "Convert the raw TIFF images into a Zarr file using the image information list."
   ]
  },
  {
   "cell_type": "code",
   "execution_count": null,
   "metadata": {},
   "outputs": [],
   "source": [
    "mf.load.tif_cYXzyx(zarr_path, n_z, n_y, n_x, tif_dims=\"zyxc\")"
   ]
  },
  {
   "cell_type": "markdown",
   "metadata": {},
   "source": [
    "# 3. Registration\n",
    "\n",
    "This section describes how to align and register tiled images across different cycles.\n",
    "\n",
    "**1) Convert the 3D image stack into 2D images**\n",
    "\n",
    "Currently, MEGA-FISH only supports 2D image processing. Use maximum intensity projection to reduce the 3D image stack along the z-axis."
   ]
  },
  {
   "cell_type": "code",
   "execution_count": null,
   "metadata": {},
   "outputs": [],
   "source": [
    "groups = [\"hcst\", \"rna1\", \"rna2\"]\n",
    "for group in groups:\n",
    "    mf.process.projection(zarr_path, group)"
   ]
  },
  {
   "cell_type": "markdown",
   "metadata": {},
   "source": [
    "**2) Calculate shifts between cycles for the same tile**\n",
    "\n",
    "First, specify the parameters for SIFT (Scale-Invariant Feature Transform) and RANSAC (Random Sample Consensus) algorithms. These parameters are critical for robust feature matching and outlier rejection."
   ]
  },
  {
   "cell_type": "code",
   "execution_count": null,
   "metadata": {},
   "outputs": [],
   "source": [
    "sift_kwargs = {\n",
    "    \"upsampling\": 1, \"n_octaves\": 8, \"n_scales\": 3, \"sigma_min\": 2,\n",
    "    \"sigma_in\": 1, \"c_dog\": 0.01, \"c_edge\": 40, \"n_bins\": 12,\n",
    "    \"lambda_ori\": 1.5, \"c_max\": 0.8, \"lambda_descr\": 6,\n",
    "    \"n_hist\": 4, \"n_ori\": 8}\n",
    "match_kwargs = {\"max_ratio\": 0.5}\n",
    "ransac_kwargs = {\n",
    "    \"min_samples\": 4, \"residual_threshold\": 10, \"max_trials\": 500}"
   ]
  },
  {
   "cell_type": "markdown",
   "metadata": {},
   "source": [
    "Note: For detailed information on the parameters, refer to the documentation of the following functions: skimage.feature.SIFT, skimage.feature.match_descriptors, skimage.measure.ransac.\n",
    "\n",
    "Next, calculate the shifts using the Hoechst channel as the reference."
   ]
  },
  {
   "cell_type": "code",
   "execution_count": null,
   "metadata": {},
   "outputs": [],
   "source": [
    "mf.register.shift_cycle_cYXyx(\n",
    "    zarr_path, \"hcst_mip\", sift_kwargs, match_kwargs, ransac_kwargs)"
   ]
  },
  {
   "cell_type": "markdown",
   "metadata": {},
   "source": [
    "**3) Load the stitched image and calculate tile shifts**\n",
    "\n",
    "Load a pre-stitched image for accurate tile registration.\n",
    "\n",
    "Note: MEGA-FISH does not currently support automatic stitched image creation. You can use external tools such as the ImageJ plugin or Imaris Stitcher."
   ]
  },
  {
   "cell_type": "code",
   "execution_count": null,
   "metadata": {},
   "outputs": [],
   "source": [
    "stitched_path = os.path.join(stitched_dir, \"hcst_mip_stitched.tif\")\n",
    "mf.load.stitched_tif(\n",
    "    zarr_path, \"stitched\", stitched_path, n_tile_y, n_tile_x)"
   ]
  },
  {
   "cell_type": "markdown",
   "metadata": {},
   "source": [
    "Then, calculate the shifts for each tile and integrate these shifts with the cycle-wise shifts."
   ]
  },
  {
   "cell_type": "code",
   "execution_count": null,
   "metadata": {},
   "outputs": [],
   "source": [
    "mf.register.shift_tile_cYXyx(zarr_path, \"hcst_mip\", \"stitched\", 1000,\n",
    "                             sift_kwargs, match_kwargs, ransac_kwargs)\n",
    "mf.register.merge_shift_cYXyx(zarr_path, \"hcst_mip\")"
   ]
  },
  {
   "cell_type": "markdown",
   "metadata": {},
   "source": [
    "**4) Generate a stitched image for each group across all cycles**\n",
    "\n",
    "Using the computed shifts, create a large Zarr group for each channel (e.g., Hoechst, RNA channel 1, RNA channel 2) that combines all cycles into a single seamless image."
   ]
  },
  {
   "cell_type": "code",
   "execution_count": null,
   "metadata": {},
   "outputs": [],
   "source": [
    "groups = [\"hcst_mip\", \"rna1_mip\", \"rna2_mip\"]\n",
    "for group in groups:\n",
    "    mf.register.registration_cYXyx(\n",
    "        zarr_path, group, \"stitched\", (1526, 1526))"
   ]
  },
  {
   "cell_type": "markdown",
   "metadata": {},
   "source": [
    "Note: It is recommended to adjust the chunk size based on the available memory capacity of your computer. Larger chunk sizes may improve performance but require more memory."
   ]
  },
  {
   "cell_type": "markdown",
   "metadata": {},
   "source": [
    "# 4. Segmentation\n",
    "\n",
    "For segmentation, it is recommended to use external segmentation tools such as Cellpose or Ilastik. However, for demonstration purposes, this tutorial uses a simple watershed segmentation method. This method is effective for segmenting nuclei in well-separated cells and includes the following steps:\n",
    "\n",
    "1. Extract a first cycle from the sequential Hoechst image.\n",
    "2. Apply Gaussian blur to reduce noise and enhance nuclei boundaries.\n",
    "3. Binarize the image to create a mask.\n",
    "4. Perform watershed segmentation to identify individual nuclei.\n",
    "5. Refine the segmentation results by merging split labels and filling small holes.\n",
    "6. Save the segmentation results to a CSV file for downstream analysis.\n",
    "\n",
    "The following code demonstrates the segmentation process:"
   ]
  },
  {
   "cell_type": "code",
   "execution_count": null,
   "metadata": {},
   "outputs": [],
   "source": [
    "# Select the slice from Hoechst in first cycle\n",
    "mf.segment.select_slice(zarr_path, \"hcst_mip_reg\",\n",
    "                        \"cycle\", 0, None, \"_slc\")\n",
    "\n",
    "# Smooth the image of the nuclei using Gaussian blur\n",
    "mf.process.gaussian_blur(zarr_path, \"hcst_mip_reg_slc\", 2)\n",
    "\n",
    "# Binarize the image\n",
    "mf.process.binarization(zarr_path, \"hcst_mip_reg_slc_gbr\", 110)\n",
    "\n",
    "# Perform segmentation using the watershed method\n",
    "mf.segment.watershed_label(zarr_path, \"hcst_mip_reg_slc_gbr_bin\", 50)\n",
    "\n",
    "# Merge the segmentation results\n",
    "mf.segment.merge_split_label(zarr_path, \"hcst_mip_reg_slc_gbr_bin_wts\")\n",
    "\n",
    "# Fill holes in the segmentation results\n",
    "mf.segment.fill_holes(zarr_path, \"hcst_mip_reg_slc_gbr_bin_wts_msl\")\n",
    "\n",
    "# Save the segmentation label information to a CSV file\n",
    "mf.segment.info_csv(zarr_path, \"hcst_mip_reg_slc_gbr_bin_wts_msl_fil\", pitch[1:])"
   ]
  },
  {
   "cell_type": "markdown",
   "metadata": {},
   "source": [
    "# 5. Spot detection\n",
    "\n",
    "RNA spot detection in MEGA-FISH involves two main steps: applying a Difference of Gaussians (DoG) filter to enhance spot-like structures and detecting local maxima to identify potential RNA spots. Below is an example workflow.\n",
    "\n",
    "**1) Apply DoG filter and detect local maxima**\n",
    "\n",
    "This step enhances spot-like features using a DoG filter and identifies potential RNA spots based on local maxima detection."
   ]
  },
  {
   "cell_type": "code",
   "execution_count": null,
   "metadata": {},
   "outputs": [],
   "source": [
    "NA = 1.4 # Numerical Aperture of the objective\n",
    "wavelengths_um = [0.592, 0.671] # Emission wavelengths in micrometers\n",
    "mean_pitch_yx = (pitch[1] + pitch[2]) / 2 # Average pixel size in the XY plane\n",
    "\n",
    "group_names = [\"rna1_mip_reg\", \"rna2_mip_reg\"]\n",
    "for group_name, wavelength_um in zip(group_names, wavelengths_um):\n",
    "    dog_sd1, dog_sd2 = mf.seqfish.dog_sds(NA, wavelength_um, mean_pitch_yx)\n",
    "    mf.seqfish.DoG_filter(zarr_path, group_name, dog_sd1,\n",
    "                        dog_sd2, axes=(1, 2), mask_radius=9)\n",
    "\n",
    "group_names = [\"rna1_mip_reg_dog\", \"rna2_mip_reg_dog\"]\n",
    "for group_name, wavelength_um in zip(group_names, wavelengths_um):\n",
    "    footprint = mf.seqfish.local_maxima_footprint(\n",
    "        NA, wavelength_um, mean_pitch_yx)\n",
    "    mf.seqfish.local_maxima(\n",
    "        zarr_path, group_name, footprint, axes=(1, 2))"
   ]
  },
  {
   "cell_type": "markdown",
   "metadata": {},
   "source": [
    "**2) Set intensity thresholds for detected spots**\n",
    "\n",
    "To filter out false positives, apply intensity thresholds to the detected local maxima."
   ]
  },
  {
   "cell_type": "code",
   "execution_count": null,
   "metadata": {},
   "outputs": [],
   "source": [
    "groups = [\"rna1_mip_reg_dog_lmx\", \"rna2_mip_reg_dog_lmx\"]\n",
    "thrs = [2.8, 1] # Intensity thresholds for each channel\n",
    "for group, thr in zip(groups, thrs):\n",
    "    mf.seqfish.select_by_intensity_threshold(zarr_path, group, threshold=thr)"
   ]
  },
  {
   "cell_type": "markdown",
   "metadata": {},
   "source": [
    "**3) Generate the cell-by-gene expression matrix**\n",
    "\n",
    "Aggregate the RNA spot counts across all channels and segments to create a cell-by-gene expression matrix. The final output is saved as a CSV file."
   ]
  },
  {
   "cell_type": "code",
   "execution_count": null,
   "metadata": {},
   "outputs": [],
   "source": [
    "groups = [\"rna1_mip_reg_dog_lmx_ith\", \"rna2_mip_reg_dog_lmx_ith\"]\n",
    "for group in groups:\n",
    "    mf.seqfish.count_spots(zarr_path, group,\n",
    "                        \"hcst_mip_reg_slc_gbr_bin_wts_msl\")\n",
    "\n",
    "# Summarize counts across all channels and save the cell-by-gene expression matrix\n",
    "groups = [\"rna1_mip_reg_dog_lmx_ith_cnt\",\n",
    "        \"rna2_mip_reg_dog_lmx_ith_cnt\"]\n",
    "group_seg = \"hcst_mip_reg_slc_gbr_bin_wts_msl_fil_seg\"\n",
    "channels = [2, 3]\n",
    "genename_path = os.path.join(root_dir, \"IMR90_SeqFISH_genename.csv\")\n",
    "group_out = \"rna_cnt\"\n",
    "mf.seqfish.count_summary(\n",
    "    zarr_path, groups, group_seg, group_out, channels, genename_path)"
   ]
  },
  {
   "cell_type": "code",
   "execution_count": null,
   "metadata": {},
   "outputs": [],
   "source": [
    "import pandas as pd\n",
    "spot_count_path = os.path.join(root_dir, sample_name + \"_csv\", sample_name + \"_rna_cnt.csv\")\n",
    "pd.read_csv(spot_count_path)"
   ]
  },
  {
   "cell_type": "markdown",
   "metadata": {},
   "source": [
    "# 6. Visualization\n",
    "\n",
    "To prepare your images for visualization, use the megafish.view.make_pyramid() function. "
   ]
  },
  {
   "cell_type": "code",
   "execution_count": null,
   "metadata": {},
   "outputs": [],
   "source": [
    "groups = [\"hcst_mip_reg\", \"rna1_mip_reg\", \"rna2_mip_reg\"]\n",
    "for group in groups:\n",
    "    mf.view.make_pyramid(zarr_path, group)"
   ]
  },
  {
   "cell_type": "markdown",
   "metadata": {},
   "source": [
    "This function generates pyramidal zoom images for a specified group. Once prepared, you can load and visualize the images in Napari."
   ]
  },
  {
   "cell_type": "code",
   "execution_count": null,
   "metadata": {},
   "outputs": [],
   "source": [
    "mf.napari.registered(\n",
    "    zarr_path, pitch=pitch[1:], max_level=2,\n",
    "    groups=[\"hcst_mip_reg\", \"rna1_mip_reg\", \"rna2_mip_reg\"],\n",
    "    colors=[\"blue\", \"green\", \"magenta\"],\n",
    "    limits=[[100, 150], [100, 195], [100, 145]])"
   ]
  }
 ],
 "metadata": {
  "kernelspec": {
   "display_name": "megafish-dev-cpu",
   "language": "python",
   "name": "python3"
  },
  "language_info": {
   "codemirror_mode": {
    "name": "ipython",
    "version": 3
   },
   "file_extension": ".py",
   "mimetype": "text/x-python",
   "name": "python",
   "nbconvert_exporter": "python",
   "pygments_lexer": "ipython3",
   "version": "3.11.11"
  }
 },
 "nbformat": 4,
 "nbformat_minor": 2
}
